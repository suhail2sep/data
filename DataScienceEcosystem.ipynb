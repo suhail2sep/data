{
 "cells": [
  {
   "cell_type": "markdown",
   "id": "c1b8fadd",
   "metadata": {},
   "source": [
    "# Data Science Tools and Ecosystem"
   ]
  },
  {
   "cell_type": "markdown",
   "id": "9d32fd0d",
   "metadata": {},
   "source": [
    "In this notebook, Data Science Tools and Ecosystem are summarized."
   ]
  },
  {
   "cell_type": "markdown",
   "id": "1ea99ec7",
   "metadata": {},
   "source": [
    "### Objectives\n",
    "\n",
    ". Learnt about languages such as python,R\n",
    "\n",
    ". Learnt about tools such as jupyter notebook and visual studio\n",
    "\n",
    ". Learnt about libraries such as pandas,numpy\n"
   ]
  },
  {
   "cell_type": "markdown",
   "id": "5a17aaca",
   "metadata": {},
   "source": [
    "Some of the popular languages that Data Scientists use are:\n",
    "\n",
    "1.Python\n",
    "\n",
    "2.R\n",
    "\n",
    "3.Java\n",
    "\n",
    "4.SQL\n"
   ]
  },
  {
   "cell_type": "markdown",
   "id": "803b919d",
   "metadata": {},
   "source": [
    "Some of the commonly used libraries used by Data Scientists include:\n",
    "\n",
    "1. Numpy\n",
    "2. Pandas\n",
    "3. Matplotlib"
   ]
  },
  {
   "cell_type": "code",
   "execution_count": 2,
   "id": "60f55129",
   "metadata": {},
   "outputs": [
    {
     "name": "stdout",
     "output_type": "stream",
     "text": [
      "| Data Science Tools   |\n",
      "|:---------------------|\n",
      "| Jupyter Notebook     |\n",
      "| Visual Studio Code   |\n",
      "| PyCharm              |\n"
     ]
    }
   ],
   "source": [
    "from tabulate import tabulate\n",
    "\n",
    "# Define the data for the table\n",
    "table_data = [\n",
    "    [\"Data Science Tools\"],  # Header row\n",
    "    [\"Jupyter Notebook\"],    # First tool\n",
    "    [\"Visual Studio Code\"],  # Second tool\n",
    "    [\"PyCharm\"]              # Third tool\n",
    "]\n",
    "\n",
    "# Display the table\n",
    "table = tabulate(table_data, headers=\"firstrow\", tablefmt=\"pipe\")\n",
    "print(table)"
   ]
  },
  {
   "cell_type": "markdown",
   "id": "818e620f",
   "metadata": {},
   "source": [
    "### Below are a few examples of evaluating arithmetic expressions in Python"
   ]
  },
  {
   "cell_type": "code",
   "execution_count": 3,
   "id": "9c1107d7",
   "metadata": {},
   "outputs": [
    {
     "data": {
      "text/plain": [
       "17"
      ]
     },
     "execution_count": 3,
     "metadata": {},
     "output_type": "execute_result"
    }
   ],
   "source": [
    "#  This a simple arithmetic expression to mutiply then add integers.\n",
    "(3*4)+5"
   ]
  },
  {
   "cell_type": "code",
   "execution_count": 5,
   "id": "c7d7d21e",
   "metadata": {},
   "outputs": [
    {
     "name": "stdout",
     "output_type": "stream",
     "text": [
      "3.3333333333333335\n"
     ]
    }
   ],
   "source": [
    "#  This will convert 200 minutes to hours by diving by 60.\n",
    "\n",
    "minutes = 200\n",
    "hours = minutes / 60\n",
    "\n",
    "print(hours)\n"
   ]
  },
  {
   "cell_type": "markdown",
   "id": "65de559a",
   "metadata": {},
   "source": [
    "# Author\n",
    "\n",
    "SuhailChopra"
   ]
  },
  {
   "cell_type": "code",
   "execution_count": null,
   "id": "e1d994e1",
   "metadata": {},
   "outputs": [],
   "source": []
  }
 ],
 "metadata": {
  "kernelspec": {
   "display_name": "Python 3 (ipykernel)",
   "language": "python",
   "name": "python3"
  },
  "language_info": {
   "codemirror_mode": {
    "name": "ipython",
    "version": 3
   },
   "file_extension": ".py",
   "mimetype": "text/x-python",
   "name": "python",
   "nbconvert_exporter": "python",
   "pygments_lexer": "ipython3",
   "version": "3.9.13"
  }
 },
 "nbformat": 4,
 "nbformat_minor": 5
}
